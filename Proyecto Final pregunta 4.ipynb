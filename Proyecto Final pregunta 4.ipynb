{
 "cells": [
  {
   "cell_type": "markdown",
   "metadata": {},
   "source": [
    "# ¿Cuál es la probabilidad que una venta de bono emitida por un cliente se convierta en una negociación entre dealers?\n"
   ]
  },
  {
   "cell_type": "code",
   "execution_count": null,
   "metadata": {
    "collapsed": true
   },
   "outputs": [],
   "source": [
    "import pandas as pd\n",
    "import seaborn as sns\n",
    "import matplotlib.pyplot as plt\n",
    "import numpy as np\n",
    "\n",
    "b = pd.read_csv('/Users/LuisNolasco/Desktop/Proyecto Final/bonds.csv')\n",
    "\n",
    "# ¿Cuál es la probabilidad que una venta de bono emitida por un cliente se convierta en una negociación entre dealers?\n",
    "\n",
    "bybond = b.groupby('bond_id')\n",
    "bybond['bond_id'].count()\n",
    "maximo = max(bybond['bond_id'].count())\n",
    "maximo\n",
    "\n",
    "bybond.bond_id.count()[bybond.bond_id.count() == 12129]\n",
    "\n",
    "#Función\n",
    "def frecuencia(n1,n2):\n",
    "    a = b.trade_type[(b.bond_id == n1)&(b.trade_type == n2)].count()\n",
    "    print a\n",
    "\n",
    "frecuencia(6968,2)\n",
    "frecuencia(6968,3)\n",
    "frecuencia(6968,4)\n",
    "\n",
    "f_type2 = b.trade_type[(b.bond_id == 6968)&(b.trade_type == 2)].count()\n",
    "\n",
    "f_type3 = b.trade_type[(b.bond_id == 6968)&(b.trade_type == 3)].count()\n",
    "\n",
    "f_type4 = b.trade_type[(b.bond_id == 6968)&(b.trade_type == 4)].count()\n",
    "\n",
    "p_type2 = float(b.trade_type[(b.bond_id == 6968)&(b.trade_type == 2)].count()*100.0/12129.0)\n",
    "\n",
    "p_type3 = float(b.trade_type[(b.bond_id == 6968)&(b.trade_type == 3)].count()*100.0/12129.0)\n",
    "\n",
    "p_type4 = float(b.trade_type[(b.bond_id == 6968)&(b.trade_type == 4)].count()*100.0/12129.0)\n",
    "\n",
    "tprice2 = b.trade_price[(b.bond_id == 6968)&(b.trade_type == 2)]\n",
    "t_price2 = b.trade_price[(b.bond_id == 6968)&(b.trade_type == 2)].sum()/f_type2\n",
    "d2 = promedio_id-t_price2\n",
    "\n",
    "tprice3 = b.trade_price[(b.bond_id == 6968)&(b.trade_type == 3)]\n",
    "t_price3 = b.trade_price[(b.bond_id == 6968)&(b.trade_type == 3)].sum()/f_type3\n",
    "d3 = promedio_id-t_price3\n",
    "\n",
    "tprice4 = b.trade_price[(b.bond_id == 6968)&(b.trade_type == 4)]\n",
    "t_price4 = b.trade_price[(b.bond_id == 6968)&(b.trade_type == 4)].sum()/f_type4\n",
    "d4 = promedio_id-t_price4\n",
    "\n",
    "\n",
    "# Cantidad de transiciones de negociaciones tipo 2 a tipo 4.\n",
    "canti = 0\n",
    "cont = 160181\n",
    "while (cont <= 172310):\n",
    "    if ((b.trade_type[cont] == 2)&(b.trade_type[cont+1] == 4)):\n",
    "        canti = canti + 1\n",
    "        #print 'Si existe una compra de cliente después de una negociación de dealers.'\n",
    "    cont += 1\n",
    "canti\n",
    "\n",
    "#Grafica\n",
    "sns.boxplot(tprice2)\n",
    "sns.boxplot(tprice3)\n",
    "sns.boxplot(tprice4)\n",
    "\n",
    "#Crosstab\n",
    "\n",
    "raw_data = {'Cantidad de transacciones': [f_type2,f_type3,f_type4], 'Porcentajes': [p_type2,p_type3,p_type4], 'Precio prom': [t_price2,t_price3,t_price4], 'Diferencia de precio prom': [d2,d3,d4]}\n",
    "df = pd.DataFrame(raw_data, index = ['Trade type 2', 'Trade type 3', 'Trade type 4'], columns = ['Cantidad de transacciones','Porcentajes','Precio prom','Diferencia de precio prom'])\n",
    "df\n",
    "\n",
    "# Probabilidad de transición tipo 2 a 4:\n",
    "float(canti/float(( b.trade_type[(b.bond_id == 6968)].count()-1)))*100\n",
    "\n",
    "\n",
    "#Conclusión: La probabilidad de que una transacción tipo 2 haya sido vendida a un dealer  es de: 5.93%.\n"
   ]
  }
 ],
 "metadata": {
  "kernelspec": {
   "display_name": "Python 2",
   "language": "python",
   "name": "python2"
  },
  "language_info": {
   "codemirror_mode": {
    "name": "ipython",
    "version": 2
   },
   "file_extension": ".py",
   "mimetype": "text/x-python",
   "name": "python",
   "nbconvert_exporter": "python",
   "pygments_lexer": "ipython2",
   "version": "2.7.11"
  }
 },
 "nbformat": 4,
 "nbformat_minor": 0
}
