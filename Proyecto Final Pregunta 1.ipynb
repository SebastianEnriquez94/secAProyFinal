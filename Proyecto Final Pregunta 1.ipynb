{
 "cells": [
  {
   "cell_type": "markdown",
   "metadata": {},
   "source": [
    "# ¿Cuánto cambia el precio promedio de un bond de una venta para la otra?"
   ]
  },
  {
   "cell_type": "code",
   "execution_count": null,
   "metadata": {
    "collapsed": false
   },
   "outputs": [],
   "source": [
    "import pandas as pd\n",
    "import seaborn as sns\n",
    "import matplotlib.pyplot as plt\n",
    "import numpy as np #importamos librerias\n",
    "\n",
    "df = pd.read_csv('bondsData.csv') #Importamos data\n",
    "datos =df[['trade_price', 'trade_type', 'trade_price_last1']]\n",
    "\n",
    "\n",
    "def filterQuantileNew(tType): #Sirve para filtrar los datos en quartiles de las ventas mas recientes\n",
    "    values = [0.25,0.5,0.75,1]\n",
    "    listData = []\n",
    "    filterD = df['trade_price'].where(df['trade_type'] == tType)\n",
    "    for i in range(0, len(values)):\n",
    "        listData.append(filterD.quantile(values[i]))\n",
    "    return listData\n",
    "\n",
    "\n",
    "def filterQuantileOld(tType): #Sirve para filtrar los datos en quartiles en las ventas pasadas\n",
    "    values = [0.25,0.5,0.75,1]\n",
    "    listData2 = []\n",
    "    filterD = df['trade_price_last1'].where(df['trade_type'] == tType)\n",
    "    for i in range(0, len(values)):\n",
    "        listData2.append(filterD.quantile(values[i]))\n",
    "    return listData2\n",
    "\n",
    "def findDeltaPercentage(tType): #Sirve para sacar el cambio del porcentaje del precio\n",
    "    totalData = df['trade_price']\n",
    "    filterData = df['trade_price'].where(df['trade_type'] == tType)\n",
    "    filterData2 = df['trade_price_last1'].where(df['trade_type'] == tType)\n",
    "    avg1 = (filterData.sum()/totalData.count())\n",
    "    avg2 = (filterData2.sum()/totalData.count())\n",
    "    porcChange = (avg1*100)/avg2\n",
    "    return(porcChange)\n",
    "    \n",
    "print \"Cambio de porcentaje en la venta de un bond tipo 2:\",(findDeltaPercentage(2)-100)\n",
    "print \"Cambio de porcentaje en la venta de un bond tipo 3:\",(findDeltaPercentage(3)-100)\n",
    "print \"Cambio de porcentaje en la venta de un bond tipo 4:\",(findDeltaPercentage(4)-100)\n",
    "\n",
    "print pd.crosstab(df.trade_price, df.trade_type) #hacemos crosstab de las ventas mas recientes\n",
    "print pd.crosstab(df.trade_price_last1, df.trade_type) #hacemos crosstab de las ventas pasadas\n",
    "\n",
    "'''\n",
    "for i in range(0, len(filterQuantileNew(2))):\n",
    "    sns.kdeplot(filterQuantileNew(2)[i])\n",
    "'''\n",
    "y = filterQuantileNew(2) #hace las graficas\n",
    "y2 = filterQuantileOld(2)\n",
    "y3 = filterQuantileNew(3)\n",
    "y4 = filterQuantileOld(3)\n",
    "y5 = filterQuantileNew(4)\n",
    "y6 = filterQuantileNew(4)\n",
    "x = [.25,.5,.75,1]\n",
    "plt.scatter(x,y)\n",
    "plt.xlabel(\"Quartiles\")\n",
    "plt.ylabel(\"Precios\")\n",
    "plt.title(\"Distribucion en Quartiles de Bond 2\")\n",
    "plt.show()\n",
    "plt.scatter(x,y2)\n",
    "plt.xlabel(\"Quartiles\")\n",
    "plt.ylabel(\"Precios\")\n",
    "plt.title(\"Distribucion en Quartiles de Bond 2\")\n",
    "plt.show()\n",
    "plt.scatter(x,y3)\n",
    "plt.xlabel(\"Quartiles\")\n",
    "plt.ylabel(\"Precios\")\n",
    "plt.title(\"Distribucion en Quartiles de Bond 3\")\n",
    "plt.show()\n",
    "plt.scatter(x,y4)\n",
    "plt.xlabel(\"Quartiles\")\n",
    "plt.ylabel(\"Precios\")\n",
    "plt.title(\"Distribucion en Quartiles de Bond 3\")\n",
    "plt.show()\n",
    "plt.scatter(x,y5)\n",
    "plt.xlabel(\"Quartiles\")\n",
    "plt.ylabel(\"Precios\")\n",
    "plt.title(\"Distribucion en Quartiles de Bond 4\")\n",
    "plt.show()\n",
    "plt.scatter(x,y5)\n",
    "plt.xlabel(\"Quartiles\")\n",
    "plt.ylabel(\"Precios\")\n",
    "plt.title(\"Distribucion en Quartiles de Bond 4\")\n",
    "plt.show()"
   ]
  },
  {
   "cell_type": "markdown",
   "metadata": {
    "collapsed": true
   },
   "source": [
    "## Graficas"
   ]
  }
 ],
 "metadata": {
  "kernelspec": {
   "display_name": "Python 2",
   "language": "python",
   "name": "python2"
  },
  "language_info": {
   "codemirror_mode": {
    "name": "ipython",
    "version": 2
   },
   "file_extension": ".py",
   "mimetype": "text/x-python",
   "name": "python",
   "nbconvert_exporter": "python",
   "pygments_lexer": "ipython2",
   "version": "2.7.11"
  }
 },
 "nbformat": 4,
 "nbformat_minor": 0
}
