{
 "cells": [
  {
   "cell_type": "markdown",
   "metadata": {},
   "source": [
    "# ¿Existe alguna relación entre la variable \"trade_price\" y \"is_callable\"?"
   ]
  },
  {
   "cell_type": "code",
   "execution_count": 2,
   "metadata": {
    "collapsed": false
   },
   "outputs": [
    {
     "name": "stdout",
     "output_type": "stream",
     "text": [
      "Precio promedio de los bonds que no son callable: 104.292921217\n",
      "Precio promedio de los bonds que si son callable: 96.6417678195\n",
      "is_callable  0  1\n",
      "trade_price      \n",
      "1.009000     0  1\n",
      "1.043750     0  1\n",
      "1.062000     0  3\n",
      "1.100000     0  3\n",
      "1.110000     0  2\n",
      "1.150000     0  4\n",
      "1.200000     0  2\n",
      "1.250000     0  5\n",
      "1.345000     0  1\n",
      "1.350000     0  1\n",
      "1.361000     0  1\n",
      "1.375000     0  9\n",
      "1.400000     0  1\n",
      "1.416667     0  1\n",
      "1.420000     0  1\n",
      "1.435000     0  3\n",
      "1.461250     0  1\n",
      "1.500000     0  7\n",
      "1.562500     0  1\n",
      "1.575000     0  1\n",
      "1.600000     0  1\n",
      "1.625000     0  1\n",
      "1.663000     0  1\n",
      "1.714000     0  1\n",
      "1.716600     0  1\n",
      "1.721000     0  1\n",
      "1.725000     0  2\n",
      "1.728000     0  1\n",
      "1.730000     0  1\n",
      "1.734000     0  1\n",
      "...         .. ..\n",
      "164.084000   1  0\n",
      "164.136000   1  0\n",
      "164.192000   2  0\n",
      "164.259000   1  0\n",
      "164.330000   1  0\n",
      "164.412000   1  0\n",
      "164.470000   1  0\n",
      "164.621000   1  0\n",
      "164.622000   1  0\n",
      "164.682000   1  0\n",
      "164.684000   1  0\n",
      "164.694000   1  0\n",
      "164.726000   1  0\n",
      "164.838000   2  0\n",
      "164.850000   1  0\n",
      "164.934000   1  0\n",
      "164.946000   1  0\n",
      "165.053000   1  0\n",
      "165.070000   1  0\n",
      "165.192000   1  0\n",
      "165.300000   1  0\n",
      "165.620000   1  0\n",
      "165.759000   1  0\n",
      "165.971000   1  0\n",
      "166.276000   1  0\n",
      "166.474000   1  0\n",
      "166.505000   1  0\n",
      "166.754000   1  0\n",
      "167.907000   1  0\n",
      "168.148000   1  0\n",
      "\n",
      "[88869 rows x 2 columns]\n"
     ]
    },
    {
     "data": {
      "text/plain": [
       "<matplotlib.axes._subplots.AxesSubplot at 0x96f0198>"
      ]
     },
     "execution_count": 2,
     "metadata": {},
     "output_type": "execute_result"
    }
   ],
   "source": [
    "import pandas as pd\n",
    "import seaborn as sns\n",
    "import matplotlib.pyplot as plt\n",
    "import numpy as np\n",
    "\n",
    "df = pd.read_csv('bondsData.csv')\n",
    "datos =df[['trade_price', 'is_callable']]\n",
    "\n",
    "tabla = pd.crosstab(df.trade_price, df.is_callable) #Sacamos la frecuencia de precios y si es callable\n",
    "\n",
    "def isCallablePercentage(x): #Obtiene el precio promedio dependiendo de si es callable o no\n",
    "    isCallable = df['trade_price'].where(df['is_callable'] == x)\n",
    "    avg = isCallable.sum()/isCallable.count()\n",
    "    return(avg)\n",
    "\n",
    "print \"Precio promedio de los bonds que no son callable:\",isCallablePercentage(0)\n",
    "print \"Precio promedio de los bonds que si son callable:\",isCallablePercentage(1)\n",
    "print tabla\n",
    "\n",
    "sns.boxplot(df.is_callable,df.trade_price) #Hace las graficas\n",
    "\n"
   ]
  },
  {
   "cell_type": "markdown",
   "metadata": {
    "collapsed": true
   },
   "source": [
    "## Grafica"
   ]
  },
  {
   "cell_type": "markdown",
   "metadata": {},
   "source": [
    "<img src =\"files/imagen1.png\">"
   ]
  }
 ],
 "metadata": {
  "kernelspec": {
   "display_name": "Python 2",
   "language": "python",
   "name": "python2"
  },
  "language_info": {
   "codemirror_mode": {
    "name": "ipython",
    "version": 2
   },
   "file_extension": ".py",
   "mimetype": "text/x-python",
   "name": "python",
   "nbconvert_exporter": "python",
   "pygments_lexer": "ipython2",
   "version": "2.7.11"
  }
 },
 "nbformat": 4,
 "nbformat_minor": 0
}
